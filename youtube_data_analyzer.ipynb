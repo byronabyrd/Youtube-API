{
  "nbformat": 4,
  "nbformat_minor": 0,
  "metadata": {
    "colab": {
      "provenance": []
    },
    "kernelspec": {
      "name": "python3",
      "display_name": "Python 3"
    },
    "language_info": {
      "name": "python"
    }
  },
  "cells": [
    {
      "cell_type": "code",
      "source": [
        "import googleapiclient.discovery\n",
        "import googleapiclient.errors\n",
        "import requests\n",
        "import time\n",
        "import pandas as pd\n",
        "import psycopg2 as ps\n",
        "from psycopg2 import Error\n",
        "from sqlalchemy import create_engine, MetaData, Table, Column, Integer, String, Date, BigInteger, update, UniqueConstraint, insert, exc\n",
        "from sqlalchemy.exc import IntegrityError\n",
        "from sqlalchemy.orm import sessionmaker, Session\n",
        "from sqlalchemy.sql import exists\n",
        "from sqlalchemy.ext.declarative import declarative_base\n",
        "import os\n",
        "import sys\n",
        "from getpass import getpass"
      ],
      "metadata": {
        "id": "XBvYfhstORN7"
      },
      "execution_count": null,
      "outputs": []
    },
    {
      "cell_type": "code",
      "source": [
        "# SET ENVIRONMENT VARIABLES\n",
        "\n",
        "os.environ['API_KEY'] = 'your_api_key'\n",
        "os.environ['DB_NAME'] = 'your_db_name'\n",
        "os.environ['DB_USERNAME'] = 'your_db_username'\n",
        "os.environ['DB_PASSWORD'] = 'your_db_password'\n",
        "os.environ['DB_HOST'] = 'your_db_host'\n",
        "os.environ['DB_PORT'] = 'your_db_port'"
      ],
      "metadata": {
        "id": "5sjm-KCJ272h"
      },
      "execution_count": null,
      "outputs": []
    },
    {
      "cell_type": "code",
      "source": [
        "# Keys\n",
        "API_KEY = os.getenv('API_KEY')\n",
        "\n",
        "if not API_KEY:\n",
        "    API_KEY = getpass('Please enter your API Key: ')\n",
        "\n",
        "# Initializes YouTube API client\n",
        "youtube = googleapiclient.discovery.build('youtube', 'v3', developerKey=API_KEY)"
      ],
      "metadata": {
        "id": "Q7AHBbyjOWvm"
      },
      "execution_count": null,
      "outputs": []
    },
    {
      "cell_type": "code",
      "source": [
        "# Prompts user for list of usernames\n",
        "def get_usernames():\n",
        "    usernames = input(\"Please enter a list of channel names, separated by commas: \")\n",
        "    if not usernames:\n",
        "        print(\"You must enter at least one username.\")\n",
        "        sys.exit(1)\n",
        "\n",
        "    usernames = [name.strip() for name in usernames.split(\",\")]\n",
        "    return usernames"
      ],
      "metadata": {
        "id": "CG-esEzFOY1A"
      },
      "execution_count": null,
      "outputs": []
    },
    {
      "cell_type": "code",
      "source": [
        "# Retrieves channel ID based on username provided \n",
        "def get_youtube_channel_id(username):\n",
        "    response = youtube.search().list(\n",
        "        part=\"snippet\",\n",
        "        type=\"channel\",\n",
        "        q=username\n",
        "        ).execute()\n",
        "    # Error checking\n",
        "    if response['pageInfo']['totalResults'] > 0:\n",
        "        return response['items'][0]['id']['channelId']\n",
        "    else:\n",
        "        print(f\"No channel found with username: {username}\")\n",
        "        return None"
      ],
      "metadata": {
        "id": "Gf-j-oZROaod"
      },
      "execution_count": null,
      "outputs": []
    },
    {
      "cell_type": "code",
      "source": [
        "# Defines function to get data for each channel\n",
        "def get_channel_details(df):\n",
        "    # List to store individual channel data\n",
        "    channel_data = []\n",
        "\n",
        "    # Iterate through the list of channel names\n",
        "    for username in usernames:\n",
        "        # Get channel id for the current username\n",
        "        channelId = get_youtube_channel_id(username)\n",
        "\n",
        "        # If a channel id was found, create a DataFrame for this channel\n",
        "        if channelId is not None:\n",
        "            channel_df = pd.DataFrame({'channelId': [channelId],\n",
        "                                       'username': [username]})\n",
        "            channel_data.append(channel_df)\n",
        "\n",
        "    # Concatenate all individual channel DataFrames\n",
        "    if channel_data:\n",
        "        df = pd.concat(channel_data, ignore_index=True)\n",
        "        \n",
        "    return df"
      ],
      "metadata": {
        "id": "LciB4dbIOeG7"
      },
      "execution_count": null,
      "outputs": []
    },
    {
      "cell_type": "code",
      "source": [
        "# Originate channel name list variable as type list by invoking get_channel_names functions\n",
        "usernames = get_usernames()\n",
        "\n",
        "# Build our dataframe\n",
        "df = pd.DataFrame(columns=[\"channelId\", \"username\"])\n",
        "\n",
        "# Populate the dataframe with channel data\n",
        "df = get_channel_details(df)\n",
        "\n",
        "# Build channel_ids list from df\n",
        "channel_ids = df['channelId'].tolist()"
      ],
      "metadata": {
        "id": "qc-tWlEDt0gF"
      },
      "execution_count": null,
      "outputs": []
    },
    {
      "cell_type": "code",
      "source": [
        "# Connection parameters\n",
        "db_name = os.getenv('DB_NAME')\n",
        "username = os.getenv('DB_USERNAME')\n",
        "password = os.getenv('DB_PASSWORD')\n",
        "host = os.getenv('DB_HOST')\n",
        "port = os.getenv('DB_PORT')\n",
        "\n",
        "if not all([db_name, username, password, host, port]):\n",
        "    print(\"Database environment variables are not set.\")\n",
        "    sys.exit(1)\n",
        "\n",
        "# Create an engine instance\n",
        "alchemyEngine = create_engine(f'postgresql+psycopg2://{username}:{password}@{host}:{port}/{db_name}', pool_recycle=3600)"
      ],
      "metadata": {
        "id": "QAJG-KCTO9XG"
      },
      "execution_count": null,
      "outputs": []
    },
    {
      "cell_type": "code",
      "source": [
        "# Connect to PostgreSQL server\n",
        "dbConnection = None\n",
        "\n",
        "try:\n",
        "    dbConnection = alchemyEngine.connect()\n",
        "    print(\"Successfully connected to the database!\")\n",
        "except exc.SQLAlchemyError as e:\n",
        "    print(f\"An error occurred while trying to connect: {e}\")\n",
        "    sys.exit(1)  # Exit if cannot connect to the database\n",
        "\n",
        "# Create a Session object\n",
        "session = Session(bind=dbConnection)\n",
        "\n",
        "if dbConnection:\n",
        "    # Create channels table if it doesn't exist\n",
        "    metadata = MetaData()\n",
        "    channels = Table(\n",
        "        'channels', metadata, \n",
        "        Column('channelId', String, primary_key = True), \n",
        "        Column('username', String),\n",
        "    )\n",
        "    metadata.create_all(alchemyEngine)  # Creates the table\n",
        "\n",
        "    # Insert data into the table from the DataFrame\n",
        "    try:\n",
        "        for index, row in df.iterrows():\n",
        "            try:\n",
        "                stmt = insert(channels).values(channelId=row['channelId'], username=row['username'])\n",
        "                session.execute(stmt)\n",
        "                session.commit()\n",
        "            except IntegrityError:\n",
        "                session.rollback()\n",
        "                session.execute(channels.update().where(channels.c.channelId==row['channelId']).values(username=row['username']))\n",
        "                session.commit()\n",
        "    except exc.SQLAlchemyError as e:\n",
        "        print(f\"An error occurred while inserting data: {e}\")\n",
        "        session.rollback()  # Rollback the transaction in case of error\n",
        "\n",
        "    # Close the database connection\n",
        "    session.close()\n",
        "    dbConnection.close()"
      ],
      "metadata": {
        "id": "ka78D-lz59wP"
      },
      "execution_count": null,
      "outputs": []
    },
    {
      "cell_type": "code",
      "source": [
        "from googleapiclient.errors import HttpError\n",
        "\n",
        "def get_videos(youtube, df, channel_ids):\n",
        "  \n",
        "  for channel_id in channel_ids:\n",
        "    print(f'Getting videos for channel ID: {channel_id}')\n",
        "\n",
        "    # Start without a page token\n",
        "    pageToken = None\n",
        "    \n",
        "    while True:\n",
        "      try:\n",
        "        print(f\"Making request with page token: {pageToken}\")\n",
        "        request = youtube.search().list(\n",
        "          part=\"snippet\",\n",
        "          channelId=channel_id,\n",
        "          maxResults=49,\n",
        "          order=\"date\",\n",
        "          pageToken=pageToken\n",
        "        )\n",
        "        response = request.execute()\n",
        "        time.sleep(1)\n",
        "\n",
        "        video_data = []  # List to store individual video data\n",
        "      \n",
        "        # for loop navigates response .json and save data to python variables below\n",
        "        if 'items' in response:\n",
        "            for video in response['items']:\n",
        "              if video['id']['kind'] == \"youtube#video\":\n",
        "                  video_id = video['id']['videoId']\n",
        "                  channel_id = video['snippet']['channelId']\n",
        "                  video_title = video['snippet']['title']\n",
        "                  video_title = str(video_title).replace(\"&amp;\",\"\")\n",
        "                  upload_date = video['snippet']['publishedAt']\n",
        "                  upload_date = str(upload_date).split(\"T\")[0]\n",
        "\n",
        "                  view_count, like_count, comment_count = get_video_details(youtube, video_id)\n",
        "                  \n",
        "                  video_df = pd.DataFrame({\n",
        "                                          'video_id': [video_id],\n",
        "                                          'channel_id': [channel_id],\n",
        "                                          'video_title': [video_title],\n",
        "                                          'upload_date': [upload_date],\n",
        "                                          'view_count': [view_count],\n",
        "                                          'like_count': [like_count],\n",
        "                                          'comment_count': [comment_count]\n",
        "                                          })\n",
        "                  \n",
        "                  video_data.append(video_df)\n",
        "                  \n",
        "            if video_data:\n",
        "              df = pd.concat([df, *video_data], ignore_index=True)\n",
        "              \n",
        "            # Check if there are more pages of results\n",
        "            if 'nextPageToken' in response:\n",
        "              pageToken = response['nextPageToken']\n",
        "            else:\n",
        "              break  # If there are no more pages of results, break the loop\n",
        "          \n",
        "        else:\n",
        "          print(\"No 'items' in response. The response was: \", response)\n",
        "\n",
        "      except HttpError as e:\n",
        "        print(f\"An HTTP error {e.resp.status} occurred:\\n{e.content}\")\n",
        "        break\n",
        "  \n",
        "  return df"
      ],
      "metadata": {
        "id": "Oc8ZoAl7ZVxA"
      },
      "execution_count": null,
      "outputs": []
    },
    {
      "cell_type": "code",
      "execution_count": null,
      "metadata": {
        "id": "-n_x3_dXBbvd"
      },
      "outputs": [],
      "source": [
        "def get_video_details(youtube, video_id):\n",
        "  print(f'Getting video details for Video ID: {video_id}')\n",
        "  try:\n",
        "    request = youtube.videos().list(\n",
        "      part=\"statistics\",\n",
        "      id=video_id\n",
        "    )\n",
        "    response = request.execute()\n",
        "\n",
        "    view_count = response['items'][0]['statistics'].get('viewCount', 0)\n",
        "    like_count = response['items'][0]['statistics'].get('likeCount', 0)\n",
        "    comment_count = response['items'][0]['statistics'].get('commentCount', 0)\n",
        "\n",
        "    return view_count, like_count, comment_count\n",
        "\n",
        "  except HttpError as e:\n",
        "    print(f\"An HTTP error {e.resp.status} occurred:\\n{e.content}\")\n",
        "    return 0, 0, 0"
      ]
    },
    {
      "cell_type": "code",
      "source": [
        "#main\n",
        "\n",
        "# build our dataframe\n",
        "df = pd.DataFrame(columns=[\"video_id\",\"channel_id\",\"video_title\",\"upload_date\",\"view_count\",\"like_count\",\"comment_count\"])\n",
        "\n",
        "df = get_videos(youtube, df, channel_ids)"
      ],
      "metadata": {
        "id": "CRaMfEz1R1R1"
      },
      "execution_count": null,
      "outputs": []
    },
    {
      "cell_type": "code",
      "source": [
        "# Create a new base for declarative models\n",
        "Base = declarative_base()\n",
        "\n",
        "# Connect to PostgreSQL server\n",
        "dbConnection = None\n",
        "try:\n",
        "    dbConnection = alchemyEngine.connect()\n",
        "    print(\"Successfully connected to the database!\")\n",
        "except exc.SQLAlchemyError as e:\n",
        "    print(f\"An error occurred while trying to connect: {e}\")\n",
        "\n",
        "# Create a Session object\n",
        "session = Session(bind=dbConnection)\n",
        "\n",
        "# Define the Videos table\n",
        "class Videos(Base):\n",
        "    __tablename__ = 'videos'\n",
        "    \n",
        "    video_id = Column(String, primary_key=True)\n",
        "    channel_id = Column(String)\n",
        "    video_title = Column(String)\n",
        "    upload_date = Column(Date)\n",
        "    view_count = Column(BigInteger)\n",
        "    like_count = Column(BigInteger)\n",
        "    comment_count = Column(BigInteger)\n",
        "\n",
        "    __table_args__ = (UniqueConstraint('video_id', 'channel_id', name='unique_video_and_channel'), )\n",
        "\n",
        "# Create the table\n",
        "Base.metadata.create_all(alchemyEngine)\n",
        "\n",
        "# Now, let's insert the data from the DataFrame into the videos table\n",
        "for index, row in df.iterrows():\n",
        "    # First, check if a row with this video_id and channel_id already exists\n",
        "    exists_query = session.query(Videos).filter(Videos.video_id==row['video_id'], Videos.channel_id==row['channel_id']).first()\n",
        "\n",
        "    if exists_query:\n",
        "        # If the row exists, update it\n",
        "        stmt = update(Videos).where(Videos.video_id==row['video_id'], Videos.channel_id==row['channel_id']).values(\n",
        "            video_title=row['video_title'],\n",
        "            upload_date=row['upload_date'],\n",
        "            view_count=row['view_count'],\n",
        "            like_count=row['like_count'],\n",
        "            comment_count=row['comment_count']\n",
        "        )\n",
        "        session.execute(stmt)\n",
        "    else:\n",
        "        # If the row does not exist, insert it\n",
        "        new_video = Videos(\n",
        "            video_id=row['video_id'],\n",
        "            channel_id=row['channel_id'],\n",
        "            video_title=row['video_title'],\n",
        "            upload_date=row['upload_date'],\n",
        "            view_count=row['view_count'],\n",
        "            like_count=row['like_count'],\n",
        "            comment_count=row['comment_count']\n",
        "        )\n",
        "        session.add(new_video)\n",
        "\n",
        "    try:\n",
        "        session.commit()\n",
        "    except exc.SQLAlchemyError as e:\n",
        "        print(f\"An error occurred while inserting data: {e}\")\n",
        "        session.rollback()  # Rollback the transaction in case of error\n",
        "\n",
        "# Close the database connection\n",
        "session.close()\n",
        "dbConnection.close()"
      ],
      "metadata": {
        "id": "IEFloB7MxuIQ"
      },
      "execution_count": null,
      "outputs": []
    }
  ]
}