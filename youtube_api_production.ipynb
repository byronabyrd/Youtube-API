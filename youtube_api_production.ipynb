{
  "nbformat": 4,
  "nbformat_minor": 0,
  "metadata": {
    "colab": {
      "provenance": []
    },
    "kernelspec": {
      "name": "python3",
      "display_name": "Python 3"
    },
    "language_info": {
      "name": "python"
    }
  },
  "cells": [
    {
      "cell_type": "code",
      "source": [
        "import googleapiclient.discovery\n",
        "import googleapiclient.errors\n",
        "import requests\n",
        "import time\n",
        "import pandas as pd\n",
        "import psycopg2 as ps\n",
        "from psycopg2 import Error\n",
        "from sqlalchemy import create_engine, MetaData, Table, Column, Integer, String, Date, BigInteger, update, UniqueConstraint, insert, exc\n",
        "from sqlalchemy.exc import IntegrityError\n",
        "from sqlalchemy.orm import sessionmaker, Session\n",
        "from sqlalchemy.sql import exists\n",
        "from sqlalchemy.ext.declarative import declarative_base\n",
        "import os\n",
        "import sys\n",
        "from getpass import getpass"
      ],
      "metadata": {
        "id": "XBvYfhstORN7"
      },
      "execution_count": null,
      "outputs": []
    },
    {
      "cell_type": "code",
      "source": [
        "# SET ENVIRONMENT VARIABLES\n",
        "\n",
        "os.environ['API_KEY'] = 'your_api_key'\n",
        "os.environ['DB_NAME'] = 'your_db_name'\n",
        "os.environ['DB_USERNAME'] = 'your_db_username'\n",
        "os.environ['DB_PASSWORD'] = 'your_db_password'\n",
        "os.environ['DB_HOST'] = 'your_db_host'\n",
        "os.environ['DB_PORT'] = 'your_db_port'"
      ],
      "metadata": {
        "id": "5sjm-KCJ272h"
      },
      "execution_count": null,
      "outputs": []
    },
    {
      "cell_type": "code",
      "source": [
        "# Keys\n",
        "API_KEY = os.getenv('API_KEY')\n",
        "\n",
        "if not API_KEY:\n",
        "    API_KEY = getpass('Please enter your API Key: ')\n",
        "\n",
        "# Initializes YouTube API client\n",
        "youtube = googleapiclient.discovery.build('youtube', 'v3', developerKey=API_KEY)"
      ],
      "metadata": {
        "id": "Q7AHBbyjOWvm"
      },
      "execution_count": null,
      "outputs": []
    },
    {
      "cell_type": "code",
      "source": [
        "# Prompts user for list of usernames\n",
        "def get_usernames():\n",
        "    usernames = input(\"Please enter a list of channel names, separated by commas: \")\n",
        "    if not usernames:\n",
        "        print(\"You must enter at least one username.\")\n",
        "        sys.exit(1)\n",
        "\n",
        "    usernames = [name.strip() for name in usernames.split(\",\")]\n",
        "    return usernames"
      ],
      "metadata": {
        "id": "CG-esEzFOY1A"
      },
      "execution_count": null,
      "outputs": []
    },
    {
      "cell_type": "code",
      "source": [
        "# Retrieves channel ID based on username provided \n",
        "def get_youtube_channel_id(username):\n",
        "    response = youtube.search().list(\n",
        "        part=\"snippet\",\n",
        "        type=\"channel\",\n",
        "        q=username\n",
        "        ).execute()\n",
        "    # Error checking\n",
        "    if response['pageInfo']['totalResults'] > 0:\n",
        "        return response['items'][0]['id']['channelId']\n",
        "    else:\n",
        "        print(f\"No channel found with username: {username}\")\n",
        "        return None"
      ],
      "metadata": {
        "id": "Gf-j-oZROaod"
      },
      "execution_count": null,
      "outputs": []
    },
    {
      "cell_type": "code",
      "source": [
        "# Defines function to get data for each channel\n",
        "def get_channel_details(df):\n",
        "    # List to store individual channel data\n",
        "    channel_data = []\n",
        "\n",
        "    # Iterate through the list of channel names\n",
        "    for username in usernames:\n",
        "        # Get channel id for the current username\n",
        "        channelId = get_youtube_channel_id(username)\n",
        "\n",
        "        # If a channel id was found, create a DataFrame for this channel\n",
        "        if channelId is not None:\n",
        "            channel_df = pd.DataFrame({'channelId': [channelId],\n",
        "                                       'username': [username]})\n",
        "            channel_data.append(channel_df)\n",
        "\n",
        "    # Concatenate all individual channel DataFrames\n",
        "    if channel_data:\n",
        "        df = pd.concat(channel_data, ignore_index=True)\n",
        "        \n",
        "    return df"
      ],
      "metadata": {
        "id": "LciB4dbIOeG7"
      },
      "execution_count": null,
      "outputs": []
    },
    {
      "cell_type": "code",
      "source": [
        "# Originate channel name list variable as type list by invoking get_channel_names functions\n",
        "usernames = get_usernames()\n",
        "\n",
        "# Build our dataframe\n",
        "df = pd.DataFrame(columns=[\"channelId\", \"username\"])\n",
        "\n",
        "# Populate the dataframe with channel data\n",
        "df = get_channel_details(df)\n",
        "\n",
        "# Build channel_ids list from df\n",
        "channel_ids = df['channelId'].tolist()"
      ],
      "metadata": {
        "id": "qc-tWlEDt0gF",
        "colab": {
          "base_uri": "https://localhost:8080/"
        },
        "outputId": "9a415a41-4bb1-47b8-8f43-8b29267e7b30"
      },
      "execution_count": null,
      "outputs": [
        {
          "name": "stdout",
          "output_type": "stream",
          "text": [
            "Please enter a list of channel names, separated by commas: LukeBarousse\n"
          ]
        }
      ]
    },
    {
      "cell_type": "code",
      "source": [
        "# Connection parameters\n",
        "db_name = os.getenv('DB_NAME')\n",
        "username = os.getenv('DB_USERNAME')\n",
        "password = os.getenv('DB_PASSWORD')\n",
        "host = os.getenv('DB_HOST')\n",
        "port = os.getenv('DB_PORT')\n",
        "\n",
        "if not all([db_name, username, password, host, port]):\n",
        "    print(\"Database environment variables are not set.\")\n",
        "    sys.exit(1)\n",
        "\n",
        "# Create an engine instance\n",
        "alchemyEngine = create_engine(f'postgresql+psycopg2://{username}:{password}@{host}:{port}/{db_name}', pool_recycle=3600)"
      ],
      "metadata": {
        "id": "QAJG-KCTO9XG"
      },
      "execution_count": null,
      "outputs": []
    },
    {
      "cell_type": "code",
      "source": [
        "# Connect to PostgreSQL server\n",
        "dbConnection = None\n",
        "\n",
        "try:\n",
        "    dbConnection = alchemyEngine.connect()\n",
        "    print(\"Successfully connected to the database!\")\n",
        "except exc.SQLAlchemyError as e:\n",
        "    print(f\"An error occurred while trying to connect: {e}\")\n",
        "    sys.exit(1)  # Exit if cannot connect to the database\n",
        "\n",
        "# Create a Session object\n",
        "session = Session(bind=dbConnection)\n",
        "\n",
        "if dbConnection:\n",
        "    # Create channels table if it doesn't exist\n",
        "    metadata = MetaData()\n",
        "    channels = Table(\n",
        "        'channels', metadata, \n",
        "        Column('channelId', String, primary_key = True), \n",
        "        Column('username', String),\n",
        "    )\n",
        "    metadata.create_all(alchemyEngine)  # Creates the table\n",
        "\n",
        "    # Insert data into the table from the DataFrame\n",
        "    try:\n",
        "        for index, row in df.iterrows():\n",
        "            try:\n",
        "                stmt = insert(channels).values(channelId=row['channelId'], username=row['username'])\n",
        "                session.execute(stmt)\n",
        "                session.commit()\n",
        "            except IntegrityError:\n",
        "                session.rollback()\n",
        "                session.execute(channels.update().where(channels.c.channelId==row['channelId']).values(username=row['username']))\n",
        "                session.commit()\n",
        "    except exc.SQLAlchemyError as e:\n",
        "        print(f\"An error occurred while inserting data: {e}\")\n",
        "        session.rollback()  # Rollback the transaction in case of error\n",
        "\n",
        "    # Close the database connection\n",
        "    session.close()\n",
        "    dbConnection.close()"
      ],
      "metadata": {
        "colab": {
          "base_uri": "https://localhost:8080/"
        },
        "id": "ka78D-lz59wP",
        "outputId": "678da152-9356-4879-8044-1f96da965b55"
      },
      "execution_count": null,
      "outputs": [
        {
          "output_type": "stream",
          "name": "stdout",
          "text": [
            "Successfully connected to the database!\n"
          ]
        }
      ]
    },
    {
      "cell_type": "markdown",
      "source": [
        "rewrite get_videos function to utilize googleapiclient library"
      ],
      "metadata": {
        "id": "fAyNOrOYZIOj"
      }
    },
    {
      "cell_type": "code",
      "source": [
        "from googleapiclient.errors import HttpError\n",
        "\n",
        "def get_videos(youtube, df, channel_ids):\n",
        "  \n",
        "  for channel_id in channel_ids:\n",
        "    print(f'Getting videos for channel ID: {channel_id}')\n",
        "\n",
        "    # Start without a page token\n",
        "    pageToken = None\n",
        "    \n",
        "    while True:\n",
        "      try:\n",
        "        print(f\"Making request with page token: {pageToken}\")\n",
        "        request = youtube.search().list(\n",
        "          part=\"snippet\",\n",
        "          channelId=channel_id,\n",
        "          maxResults=49,\n",
        "          order=\"date\",\n",
        "          pageToken=pageToken\n",
        "        )\n",
        "        response = request.execute()\n",
        "        time.sleep(1)\n",
        "\n",
        "        video_data = []  # List to store individual video data\n",
        "      \n",
        "        # for loop navigates response .json and save data to python variables below\n",
        "        if 'items' in response:\n",
        "            for video in response['items']:\n",
        "              if video['id']['kind'] == \"youtube#video\":\n",
        "                  video_id = video['id']['videoId']\n",
        "                  channel_id = video['snippet']['channelId']\n",
        "                  video_title = video['snippet']['title']\n",
        "                  video_title = str(video_title).replace(\"&amp;\",\"\")\n",
        "                  upload_date = video['snippet']['publishedAt']\n",
        "                  upload_date = str(upload_date).split(\"T\")[0]\n",
        "\n",
        "                  view_count, like_count, comment_count = get_video_details(youtube, video_id)\n",
        "                  \n",
        "                  video_df = pd.DataFrame({\n",
        "                                          'video_id': [video_id],\n",
        "                                          'channel_id': [channel_id],\n",
        "                                          'video_title': [video_title],\n",
        "                                          'upload_date': [upload_date],\n",
        "                                          'view_count': [view_count],\n",
        "                                          'like_count': [like_count],\n",
        "                                          'comment_count': [comment_count]\n",
        "                                          })\n",
        "                  \n",
        "                  video_data.append(video_df)\n",
        "                  \n",
        "            if video_data:\n",
        "              df = pd.concat([df, *video_data], ignore_index=True)\n",
        "              \n",
        "            # Check if there are more pages of results\n",
        "            if 'nextPageToken' in response:\n",
        "              pageToken = response['nextPageToken']\n",
        "            else:\n",
        "              break  # If there are no more pages of results, break the loop\n",
        "          \n",
        "        else:\n",
        "          print(\"No 'items' in response. The response was: \", response)\n",
        "\n",
        "      except HttpError as e:\n",
        "        print(f\"An HTTP error {e.resp.status} occurred:\\n{e.content}\")\n",
        "        break\n",
        "  \n",
        "  return df"
      ],
      "metadata": {
        "id": "Oc8ZoAl7ZVxA"
      },
      "execution_count": null,
      "outputs": []
    },
    {
      "cell_type": "code",
      "execution_count": null,
      "metadata": {
        "id": "-n_x3_dXBbvd"
      },
      "outputs": [],
      "source": [
        "def get_video_details(youtube, video_id):\n",
        "  print(f'Getting video details for Video ID: {video_id}')\n",
        "  try:\n",
        "    request = youtube.videos().list(\n",
        "      part=\"statistics\",\n",
        "      id=video_id\n",
        "    )\n",
        "    response = request.execute()\n",
        "\n",
        "    view_count = response['items'][0]['statistics'].get('viewCount', 0)\n",
        "    like_count = response['items'][0]['statistics'].get('likeCount', 0)\n",
        "    comment_count = response['items'][0]['statistics'].get('commentCount', 0)\n",
        "\n",
        "    return view_count, like_count, comment_count\n",
        "\n",
        "  except HttpError as e:\n",
        "    print(f\"An HTTP error {e.resp.status} occurred:\\n{e.content}\")\n",
        "    return 0, 0, 0"
      ]
    },
    {
      "cell_type": "code",
      "source": [
        "#main\n",
        "\n",
        "# build our dataframe\n",
        "df = pd.DataFrame(columns=[\"video_id\",\"channel_id\",\"video_title\",\"upload_date\",\"view_count\",\"like_count\",\"comment_count\"])\n",
        "\n",
        "df = get_videos(youtube, df, channel_ids)"
      ],
      "metadata": {
        "colab": {
          "base_uri": "https://localhost:8080/"
        },
        "id": "CRaMfEz1R1R1",
        "outputId": "7df08efe-bf2a-483b-b997-036329a66903"
      },
      "execution_count": null,
      "outputs": [
        {
          "metadata": {
            "tags": null
          },
          "name": "stdout",
          "output_type": "stream",
          "text": [
            "Getting videos for channel ID: UCLLw7jmFsvfIVaUFsLs8mlQ\n",
            "Making request with page token: None\n",
            "Getting video details for Video ID: uyCXLr7cgrs\n",
            "Getting video details for Video ID: Ss9SvcRORsk\n",
            "Getting video details for Video ID: 9Ql_Lr7nQN4\n",
            "Getting video details for Video ID: u2HAzOhazEA\n",
            "Getting video details for Video ID: FR_6qEu2kko\n",
            "Getting video details for Video ID: lFdUVtCrEnk\n",
            "Getting video details for Video ID: lsBzCZuKzbM\n",
            "Getting video details for Video ID: TwRNsBpWmfg\n",
            "Getting video details for Video ID: EzOQDazdjIw\n",
            "Getting video details for Video ID: 60TtNPlq3_k\n",
            "Getting video details for Video ID: -w0JrQd17Hw\n",
            "Getting video details for Video ID: ba13LRncDtQ\n",
            "Getting video details for Video ID: jdqWbzwm1IU\n",
            "Getting video details for Video ID: BL1w5chqt8U\n",
            "Getting video details for Video ID: CTLgC4AaOtM\n",
            "Getting video details for Video ID: Zgx6dwZRov4\n",
            "Getting video details for Video ID: tJAzELZv4gE\n",
            "Getting video details for Video ID: J5RRIF2a1NM\n",
            "Getting video details for Video ID: 7G_Kz5MOqps\n",
            "Getting video details for Video ID: ZRbqNRChcds\n",
            "Getting video details for Video ID: -fCTVK7v8UY\n",
            "Getting video details for Video ID: -hsjqUcMDLo\n",
            "Getting video details for Video ID: X7P2Yi-OU50\n",
            "Getting video details for Video ID: 1AS682khWwA\n",
            "Getting video details for Video ID: LEY6RpAW98g\n",
            "Getting video details for Video ID: 5wM82xc06aM\n",
            "Getting video details for Video ID: WxuORWSe63k\n",
            "Getting video details for Video ID: WrNvDniOUwo\n",
            "Getting video details for Video ID: YrubB5aXStY\n",
            "Getting video details for Video ID: LDds33bJy6g\n",
            "Getting video details for Video ID: cPbWjaLPHkc\n",
            "Getting video details for Video ID: 0qcsqdeDbc0\n",
            "Getting video details for Video ID: i0B9TSum6bg\n",
            "Getting video details for Video ID: sWdNrpapwOI\n",
            "Getting video details for Video ID: 2NKuvqo_cGc\n",
            "Getting video details for Video ID: gUxi4lfXR5s\n",
            "Getting video details for Video ID: F_Nd1oQqK8E\n",
            "Getting video details for Video ID: ut7YKiHHfRk\n",
            "Getting video details for Video ID: NIOg6lJX8rQ\n",
            "Getting video details for Video ID: ohB5kjKGLGc\n",
            "Getting video details for Video ID: u3QcbYNUgtU\n",
            "Getting video details for Video ID: 2KZ-0ZaNYZI\n",
            "Getting video details for Video ID: emB44aQTVhI\n",
            "Getting video details for Video ID: cJuA3ZU34sg\n",
            "Getting video details for Video ID: zOYBpfRA12U\n",
            "Getting video details for Video ID: NjdtctYbrLk\n",
            "Getting video details for Video ID: bnNGZBnbvuo\n",
            "Getting video details for Video ID: uhRUtVHbNHc\n",
            "Getting video details for Video ID: qKMOVoW18sQ\n",
            "Making request with page token: CDEQAA\n",
            "Getting video details for Video ID: ObxO_F_7RrA\n",
            "Getting video details for Video ID: iNEwkaYmPqY\n",
            "Getting video details for Video ID: 6A61WwOJQS4\n",
            "Getting video details for Video ID: BIfhY3U7FMg\n",
            "Getting video details for Video ID: pPy3sbeGNjQ\n",
            "Getting video details for Video ID: FTpYtRaAqWU\n",
            "Getting video details for Video ID: vRbgun8ryVE\n",
            "Getting video details for Video ID: 0R1LCYpiQsw\n",
            "Getting video details for Video ID: AopGnnPPczY\n",
            "Getting video details for Video ID: tBfIh3VQX2o\n",
            "Getting video details for Video ID: i8PKI_zJfDU\n",
            "Getting video details for Video ID: lw6sPHH7twk\n",
            "Getting video details for Video ID: 5Q0gB7imNOo\n",
            "Getting video details for Video ID: MSlIfGSI6bo\n",
            "Getting video details for Video ID: NQSe-SuykJU\n",
            "Getting video details for Video ID: W5qAY4XidHE\n",
            "Getting video details for Video ID: 09JnFEdZe2A\n",
            "Getting video details for Video ID: GEBzsz8ZSXs\n",
            "Getting video details for Video ID: NAuuqdzC_rI\n",
            "Getting video details for Video ID: CC66RXeTn_4\n",
            "Getting video details for Video ID: aqRxZSrJLEc\n",
            "Getting video details for Video ID: U4vh2EClJic\n",
            "Getting video details for Video ID: egtF-C5WIpk\n",
            "Getting video details for Video ID: 1sQDJSQBUe4\n",
            "Getting video details for Video ID: NrVYzpy4Xns\n",
            "Getting video details for Video ID: y3TxcejHw-4\n",
            "Getting video details for Video ID: 1kU_ASADlPY\n",
            "Getting video details for Video ID: TeZVQ9hsgTM\n",
            "Getting video details for Video ID: VrdnBxx8BBI\n",
            "Getting video details for Video ID: W_mC_I0_fx4\n",
            "Getting video details for Video ID: Zcy-ND_4ydQ\n",
            "Getting video details for Video ID: VchXKvfCi3s\n",
            "Getting video details for Video ID: z5mAumgV2rA\n",
            "Getting video details for Video ID: cIZWgPmpRVc\n",
            "Getting video details for Video ID: 78LMtFItAdw\n",
            "Getting video details for Video ID: ZWqH5emDdOI\n",
            "Getting video details for Video ID: BEKXRqqgHCw\n",
            "Getting video details for Video ID: 3Ao2FV1r5-8\n",
            "Getting video details for Video ID: 3TBwY4VjLX8\n",
            "Getting video details for Video ID: aw14VK9sN2s\n",
            "Getting video details for Video ID: DNJfUPfSZpY\n",
            "Getting video details for Video ID: MfUzKeEKtr8\n",
            "Getting video details for Video ID: DGrszAeMZJI\n",
            "Getting video details for Video ID: jp-Lv_3a2VI\n",
            "Making request with page token: CGIQAA\n",
            "Getting video details for Video ID: Ush_KFSKNgg\n",
            "Getting video details for Video ID: fmLPS6FBbac\n",
            "Getting video details for Video ID: _r655ogzK4A\n",
            "Getting video details for Video ID: YZkcEtWgMGw\n",
            "Getting video details for Video ID: axgNfM55dw8\n",
            "Getting video details for Video ID: GmTD-MBea_E\n",
            "Getting video details for Video ID: X4DBQTl7AfI\n",
            "Getting video details for Video ID: hWs_q9NBBKM\n",
            "Getting video details for Video ID: W6N8n99htvw\n",
            "Getting video details for Video ID: 18ZYDDIgIiM\n",
            "Getting video details for Video ID: Vor_OkEnxAA\n",
            "Getting video details for Video ID: xzR4L_XYW3g\n",
            "Getting video details for Video ID: aULGH7zts0c\n",
            "Getting video details for Video ID: GZKDG2pyKhI\n",
            "Getting video details for Video ID: sW2w10lL1LM\n",
            "Getting video details for Video ID: vyPm2fOyS7Y\n",
            "Getting video details for Video ID: YCcC8LQ5RGU\n",
            "Getting video details for Video ID: AfG4jS13X5c\n",
            "Getting video details for Video ID: Dt2hHmTkoMg\n",
            "Getting video details for Video ID: p04t7Ho-DEM\n",
            "Getting video details for Video ID: MJOYxUU0wRg\n",
            "Getting video details for Video ID: WslmhWukJdM\n",
            "Getting video details for Video ID: MADnq-md0yw\n",
            "Getting video details for Video ID: NnfbVOt9IR0\n",
            "Getting video details for Video ID: eCN_GRRAoF8\n",
            "Getting video details for Video ID: -3S_fS4yNA8\n",
            "Getting video details for Video ID: ip_HcMI0EQQ\n",
            "Getting video details for Video ID: UuwlySU7Hjg\n",
            "Getting video details for Video ID: qI0uJsLweoM\n",
            "Getting video details for Video ID: HvAjnpA6mlA\n",
            "Getting video details for Video ID: sh_EZ9MEdsk\n",
            "Getting video details for Video ID: xfAcErzOKN4\n",
            "Getting video details for Video ID: 9T-B7mBgYjs\n",
            "Getting video details for Video ID: 7Sdzs3fF5kw\n",
            "Getting video details for Video ID: HAY-3TnAi7Y\n",
            "Getting video details for Video ID: u5HVoEA6KVU\n",
            "Getting video details for Video ID: hB8Pbj870nI\n",
            "Getting video details for Video ID: FQiehwXLKV4\n",
            "Getting video details for Video ID: IdZuTave8QY\n",
            "Getting video details for Video ID: W_5x9mURZe4\n",
            "Getting video details for Video ID: sgS4TauqhJM\n",
            "Getting video details for Video ID: O8j7FeA9J_U\n"
          ]
        }
      ]
    },
    {
      "cell_type": "code",
      "source": [
        "# Create a new base for declarative models\n",
        "Base = declarative_base()\n",
        "\n",
        "# Connect to PostgreSQL server\n",
        "dbConnection = None\n",
        "try:\n",
        "    dbConnection = alchemyEngine.connect()\n",
        "    print(\"Successfully connected to the database!\")\n",
        "except exc.SQLAlchemyError as e:\n",
        "    print(f\"An error occurred while trying to connect: {e}\")\n",
        "\n",
        "# Create a Session object\n",
        "session = Session(bind=dbConnection)\n",
        "\n",
        "# Define the Videos table\n",
        "class Videos(Base):\n",
        "    __tablename__ = 'videos'\n",
        "    \n",
        "    video_id = Column(String, primary_key=True)\n",
        "    channel_id = Column(String)\n",
        "    video_title = Column(String)\n",
        "    upload_date = Column(Date)\n",
        "    view_count = Column(BigInteger)\n",
        "    like_count = Column(BigInteger)\n",
        "    comment_count = Column(BigInteger)\n",
        "\n",
        "    __table_args__ = (UniqueConstraint('video_id', 'channel_id', name='unique_video_and_channel'), )\n",
        "\n",
        "# Create the table\n",
        "Base.metadata.create_all(alchemyEngine)\n",
        "\n",
        "# Now, let's insert the data from the DataFrame into the videos table\n",
        "for index, row in df.iterrows():\n",
        "    # First, check if a row with this video_id and channel_id already exists\n",
        "    exists_query = session.query(Videos).filter(Videos.video_id==row['video_id'], Videos.channel_id==row['channel_id']).first()\n",
        "\n",
        "    if exists_query:\n",
        "        # If the row exists, update it\n",
        "        stmt = update(Videos).where(Videos.video_id==row['video_id'], Videos.channel_id==row['channel_id']).values(\n",
        "            video_title=row['video_title'],\n",
        "            upload_date=row['upload_date'],\n",
        "            view_count=row['view_count'],\n",
        "            like_count=row['like_count'],\n",
        "            comment_count=row['comment_count']\n",
        "        )\n",
        "        session.execute(stmt)\n",
        "    else:\n",
        "        # If the row does not exist, insert it\n",
        "        new_video = Videos(\n",
        "            video_id=row['video_id'],\n",
        "            channel_id=row['channel_id'],\n",
        "            video_title=row['video_title'],\n",
        "            upload_date=row['upload_date'],\n",
        "            view_count=row['view_count'],\n",
        "            like_count=row['like_count'],\n",
        "            comment_count=row['comment_count']\n",
        "        )\n",
        "        session.add(new_video)\n",
        "\n",
        "    try:\n",
        "        session.commit()\n",
        "    except exc.SQLAlchemyError as e:\n",
        "        print(f\"An error occurred while inserting data: {e}\")\n",
        "        session.rollback()  # Rollback the transaction in case of error\n",
        "\n",
        "# Close the database connection\n",
        "session.close()\n",
        "dbConnection.close()"
      ],
      "metadata": {
        "colab": {
          "base_uri": "https://localhost:8080/"
        },
        "id": "IEFloB7MxuIQ",
        "outputId": "23d65360-26ee-491d-b81f-c5d69b539cb8"
      },
      "execution_count": null,
      "outputs": [
        {
          "output_type": "stream",
          "name": "stderr",
          "text": [
            "<ipython-input-21-a82cb777760e>:2: MovedIn20Warning: The ``declarative_base()`` function is now available as sqlalchemy.orm.declarative_base(). (deprecated since: 2.0) (Background on SQLAlchemy 2.0 at: https://sqlalche.me/e/b8d9)\n",
            "  Base = declarative_base()\n"
          ]
        },
        {
          "output_type": "stream",
          "name": "stdout",
          "text": [
            "Successfully connected to the database!\n"
          ]
        }
      ]
    }
  ]
}